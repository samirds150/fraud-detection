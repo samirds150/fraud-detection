{
 "cells": [
  {
   "cell_type": "code",
   "execution_count": null,
   "id": "f2f31d2a-fd3c-4844-b857-4e2c1e418b1b",
   "metadata": {},
   "outputs": [],
   "source": [
    "# Basic imports\n",
    "import pandas as pd\n",
    "import numpy as np\n",
    "import matplotlib.pyplot as plt\n",
    "import seaborn as sns\n",
    "pd.set_option('display.max_columns', None)\n",
    "from sklearn.model_selection import train_test_split\n",
    "from sklearn.ensemble import RandomForestClassifier\n",
    "from sklearn.metrics import classification_report, confusion_matrix\n",
    "from imblearn.over_sampling import SMOTE\n"
   ]
  },
  {
   "cell_type": "code",
   "execution_count": null,
   "id": "b969573c-b233-4850-9056-7f4e4f1d6fc5",
   "metadata": {},
   "outputs": [],
   "source": [
    "#  Load dataset\n",
    "df = pd.read_csv(\"../data/fraud_detection_dummy_dataset.csv\")"
   ]
  },
  {
   "cell_type": "code",
   "execution_count": null,
   "id": "91ee29d4-6fa3-4c68-a0dc-665d02114c21",
   "metadata": {},
   "outputs": [],
   "source": [
    "# check shape and few samples\n",
    "print(f'Shape: {df.shape}')\n",
    "df.head()"
   ]
  },
  {
   "cell_type": "code",
   "execution_count": null,
   "id": "de6ed3bb-ba9e-4f47-9381-2315d6135e0a",
   "metadata": {},
   "outputs": [],
   "source": [
    "# Check basic info\n",
    "df.info()"
   ]
  },
  {
   "cell_type": "code",
   "execution_count": null,
   "id": "a22e1e22-f8ad-4395-9748-2c158f87eab3",
   "metadata": {},
   "outputs": [],
   "source": [
    "# Count of missing value per column\n",
    "df.isnull().sum()"
   ]
  },
  {
   "cell_type": "code",
   "execution_count": null,
   "id": "b707096a-c102-42b3-af7f-7365b6ae4626",
   "metadata": {},
   "outputs": [],
   "source": [
    "# fitler only columns with nulls\n",
    "missing = df.isnull().sum()\n",
    "missing = missing[missing > 0].sort_values(ascending = True)\n",
    "\n",
    "# Display\n",
    "print(f'Missing value per column : {missing}')"
   ]
  },
  {
   "cell_type": "code",
   "execution_count": null,
   "id": "00159a84-f02d-4a97-b9f2-c96606eb89c7",
   "metadata": {},
   "outputs": [],
   "source": [
    "# Visualize missingness\n",
    "plt.figure(figsize = (12,6))\n",
    "sns.heatmap(df.isnull(), cbar = False, yticklabels = False, cmap = \"viridis\")\n",
    "plt.title(\"Heatmap of Missing Values\")\n",
    "plt.show()"
   ]
  },
  {
   "cell_type": "code",
   "execution_count": null,
   "id": "0f3f9123-c148-4cc0-8a72-0f049ecb4afa",
   "metadata": {},
   "outputs": [],
   "source": [
    "# plot distribution to spot outliers\n",
    "numeric_cols = [\"amount\", \"ip_risk_score\", \"mouse_movement_score\", 'avg_transaction_amount']\n",
    "plt.figure(figsize = (15, 8))\n",
    "for i, col in enumerate(numeric_cols, 1):\n",
    "    plt.subplot(2,2,i)\n",
    "    sns.boxplot(x = df[col])\n",
    "    plt.title(f'Boxplot of {col}')\n",
    "plt.tight_layout()\n",
    "plt.show()"
   ]
  },
  {
   "cell_type": "code",
   "execution_count": null,
   "id": "7b00a035-8654-48e7-8ebf-fbb1bf4e6f1e",
   "metadata": {},
   "outputs": [],
   "source": [
    "# using IQR metjod of amount\n",
    "Q1 = df['amount'].quantile(0.25)\n",
    "Q3 = df['amount'].quantile(0.75)\n",
    "IQR = Q3-Q1\n",
    "\n",
    "# Outliers detection\n",
    "outliers = df[(df['amount'] < (Q1 - 1.5 * IQR)) | (df['amount'] > (Q3 + 1.5 * IQR))]\n",
    "print(f'Outliers in \"amount\" : {len(outliers)}')"
   ]
  },
  {
   "cell_type": "code",
   "execution_count": null,
   "id": "0fb17aef-37f2-48ab-95e7-c4ad88b5e118",
   "metadata": {},
   "outputs": [],
   "source": [
    "# Fraud Count Plot\n",
    "sns.countplot(x = 'fraud_flag', data = df)\n",
    "plt.title(\"Fraud vs Non-fraud Count\")\n",
    "plt.xticks([0,1], ['Legit', 'Fraud'])\n",
    "plt.ylabel(\"Number of transactions\")\n",
    "plt.show()\n",
    "print(df['fraud_flag'].value_counts(normalize = True).round(3))"
   ]
  },
  {
   "cell_type": "code",
   "execution_count": null,
   "id": "6ec289da-14e6-421c-8e25-a43d5569f1b7",
   "metadata": {},
   "outputs": [],
   "source": [
    "# Amount Distribution by Fraud\n",
    "plt.figure(figsize = (10,5))\n",
    "sns.histplot(data = df, x = 'amount', hue = 'fraud_flag', bins = 100, kde = True, palette = 'Set1', element = 'step')\n",
    "plt.xlim(0, 500)\n",
    "plt.title(\"Transaction Amount by Fraud Flag\")\n",
    "plt.show()"
   ]
  },
  {
   "cell_type": "code",
   "execution_count": null,
   "id": "00ae5b88-2b9b-474e-b121-190d7f632727",
   "metadata": {},
   "outputs": [],
   "source": [
    "# Payment method vs Fraud rate\n",
    "fraud_by_method = df.groupby(\"payment_method\")[\"fraud_flag\"].mean().sort_values(ascending = False)\n",
    "fraud_by_method.plot(kind = \"bar\", title = \"Fraud Rate by Payment Method\", ylabel = \"Fraud Rate\")\n",
    "plt.xticks(rotation = 45)\n",
    "plt.show()"
   ]
  },
  {
   "cell_type": "code",
   "execution_count": null,
   "id": "4003d807-f73f-40a6-b6f6-bc825ea7e847",
   "metadata": {},
   "outputs": [],
   "source": [
    "# Device Type vs Fraud rate\n",
    "fraud_by_method = df.groupby(\"device_type\")[\"fraud_flag\"].mean().sort_values(ascending = False)\n",
    "fraud_by_method.plot(kind = \"bar\", title = \"Fraud Rate by Device Type\", ylabel = \"Fraud Rate\")\n",
    "plt.xticks(rotation = 45)\n",
    "plt.show()"
   ]
  },
  {
   "cell_type": "code",
   "execution_count": null,
   "id": "6c3ccdb6-498c-45d0-9818-416e67be1b3a",
   "metadata": {},
   "outputs": [],
   "source": [
    "# Geo location vs Fraud rate\n",
    "fraud_by_method = df.groupby(\"geo_location\")[\"fraud_flag\"].mean().sort_values(ascending = False)\n",
    "fraud_by_method.plot(kind = \"bar\", title = \"Fraud Rate by Geo Location\", ylabel = \"Fraud Rate\")\n",
    "plt.xticks(rotation = 45)\n",
    "plt.show()"
   ]
  },
  {
   "cell_type": "code",
   "execution_count": null,
   "id": "2cbeb284-7129-4993-81ee-62e669a6a080",
   "metadata": {},
   "outputs": [],
   "source": [
    "# VPN use vs Fraud rate\n",
    "fraud_by_method = df.groupby(\"is_vpn\")[\"fraud_flag\"].mean().sort_values(ascending = False)\n",
    "fraud_by_method.plot(kind = \"bar\", title = \"Fraud Rate by VPN use\", ylabel = \"Fraud Rate\")\n",
    "plt.xticks(rotation = 45)\n",
    "plt.show()"
   ]
  },
  {
   "cell_type": "code",
   "execution_count": null,
   "id": "6003ee28-81c3-4622-bc33-1f7b539ee758",
   "metadata": {},
   "outputs": [],
   "source": [
    "# Fill numerical Nans with median\n",
    "df['mouse_movement_score'].fillna(df['mouse_movement_score'].median(), inplace = True)\n",
    "df['ip_risk_score'].fillna(df['ip_risk_score'].median(), inplace = True)\n",
    "df['avg_transaction_amount'].fillna(df['avg_transaction_amount'].median(), inplace = True)\n",
    "\n",
    "# Fill Categorial Nans with mode\n",
    "for col in ['payment_method','device_type', 'day_of_week', 'geo_location']:\n",
    "    df[col].fillna(df[col].mode()[0], inplace = True)    "
   ]
  },
  {
   "cell_type": "code",
   "execution_count": null,
   "id": "cfceff59-2286-40cd-9e71-5526a43ad2f2",
   "metadata": {},
   "outputs": [],
   "source": [
    "\n",
    "# Converting categorical to numerical values\n",
    "categorical_cols = ['payment_method', 'device_type', 'geo_location', 'day_of_week']\n",
    "df_encoded = pd.get_dummies(df, columns=categorical_cols, drop_first=True)"
   ]
  },
  {
   "cell_type": "code",
   "execution_count": null,
   "id": "51cd1ebf-bd97-4a8d-a585-aa9e0083a0cf",
   "metadata": {
    "scrolled": true
   },
   "outputs": [],
   "source": [
    "# Preparing train test data\n",
    "X = df_encoded.drop(columns= ['transaction_id', 'fraud_flag'])\n",
    "y = df_encoded['fraud_flag']\n",
    "\n",
    "# split the data\n",
    "X_train, X_test, y_train, y_test = train_test_split(\n",
    "    X, y, test_size=0.2, stratify=y, random_state=42\n",
    ")\n",
    "\n",
    "print(f\"Train size: {X_train.shape}, Test size: {X_test.shape}\")"
   ]
  },
  {
   "cell_type": "code",
   "execution_count": null,
   "id": "88c145ba-774e-4ade-8a19-45e384f6bb8c",
   "metadata": {},
   "outputs": [],
   "source": [
    "# Apply SMOTE only on the training set\n",
    "smote = SMOTE(random_state=42)\n",
    "X_train_bal, y_train_bal = smote.fit_resample(X_train, y_train)\n",
    "\n",
    "print(f\"Before SMOTE: {sum(y_train==1)} fraud / {len(y_train)} total\")\n",
    "print(f\"After SMOTE:  {sum(y_train_bal==1)} fraud / {len(y_train_bal)} total\")"
   ]
  },
  {
   "cell_type": "code",
   "execution_count": null,
   "id": "7f07ee2b-0040-4d04-9052-1124bc78dcdb",
   "metadata": {},
   "outputs": [],
   "source": [
    "# Train Random Forest Classifier\n",
    "\n",
    "rf_model = RandomForestClassifier(n_estimators=100, random_state=42)\n",
    "rf_model.fit(X_train_bal, y_train_bal)\n",
    "\n",
    "\n",
    "\n",
    "\n",
    "\n",
    "\n",
    "# Predictions\n",
    "y_pred = rf_model.predict(X_test)\n",
    "\n",
    "# Evaluation\n",
    "print(classification_report(y_test, y_pred))"
   ]
  },
  {
   "cell_type": "code",
   "execution_count": null,
   "id": "1d71823d-0016-470e-be04-f9ac4ff65c8e",
   "metadata": {},
   "outputs": [],
   "source": []
  },
  {
   "cell_type": "code",
   "execution_count": null,
   "id": "bf48d841-308f-4884-a7a8-0c77ae4defc2",
   "metadata": {},
   "outputs": [],
   "source": []
  }
 ],
 "metadata": {
  "kernelspec": {
   "display_name": "Python 3 (ipykernel)",
   "language": "python",
   "name": "python3"
  },
  "language_info": {
   "codemirror_mode": {
    "name": "ipython",
    "version": 3
   },
   "file_extension": ".py",
   "mimetype": "text/x-python",
   "name": "python",
   "nbconvert_exporter": "python",
   "pygments_lexer": "ipython3",
   "version": "3.13.1"
  }
 },
 "nbformat": 4,
 "nbformat_minor": 5
}
